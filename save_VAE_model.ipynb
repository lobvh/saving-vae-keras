{
  "nbformat": 4,
  "nbformat_minor": 0,
  "metadata": {
    "colab": {
      "name": "save-VAE-model.ipynb",
      "provenance": [],
      "collapsed_sections": []
    },
    "kernelspec": {
      "name": "python3",
      "display_name": "Python 3"
    },
    "language_info": {
      "name": "python"
    }
  },
  "cells": [
    {
      "cell_type": "code",
      "execution_count": null,
      "metadata": {
        "id": "7zSocVgx8QPH"
      },
      "outputs": [],
      "source": [
        "#First you access the learnt weights of the encoder and decoder from the VAE model and save them\n",
        "your_vae_model.get_layer('encoder').save_weights('encoder_weights.h5')\n",
        "your_vae_model.get_layer('decoder').save_weights('decoder_weights.h5')\n",
        "\n",
        "\n",
        "#Since both encoder and decoder are treated as models, you also need to save their architecture which are defined via instantiated VAE model\n",
        "your_vae_model.get_layer('encoder').save('encoder_arch') #If you are using Google Colab they will be saved in folders: decoder_arch\n",
        "your_vae_model.get_layer('decoder').save('decoder_arch') #and encoder_arch.\n",
        "\n",
        "\n",
        "######\n",
        "#TIP#\n",
        "#####\n",
        "\n",
        "#If you are using Google Colab you can download the folders by first zipping them and then \n",
        "#using the Google Colab functionality to download them, or do it manually. Your call. ;)\n",
        "\n",
        "from google.colab import files\n",
        "\n",
        "!zip -r /content/decoder_arch.zip /content/decoder_arch\n",
        "!zip -r /content/encoder_arch.zip /content/encoder_arch\n",
        "\n",
        "from google.colab import files\n",
        "files.download('/content/encoder_arch.zip')\n",
        "files.download('/content/decoder_arch.zip')\n",
        "\n",
        "#Lets load the model in new VAE instance and also the corresponding weights. Upload the folders and .hd5 files into Colab\n",
        "\n",
        "encoder_new = keras.models.load_model('encoder_arch') #Loading the encoder model\n",
        "decoder_new = keras.models.load_model('decoder_arch') #Loading the decoder model\n",
        "\n",
        "vae_new = VAE(encoder_new, decoder_new) #You need to have VAE class defined for this to works. I've impelemented one from the https://keras.io/examples/generative/vae/\n",
        "vae_new.get_layer('encoder').load_weights('encoder_weights.h5') #On a given encoder model defined by vae_new we want to load the weights\n",
        "vae_new.get_layer('decoder').load_weights('decoder_weights.h5') #for encoder and decoder\n",
        "vae_new.compile(optimizer=keras.optimizers.Adam()) #Now we need to compile the model and we are ready to make predictions!"
      ]
    }
  ]
}